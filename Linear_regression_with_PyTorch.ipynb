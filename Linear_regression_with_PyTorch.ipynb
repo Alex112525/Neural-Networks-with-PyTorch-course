{
  "nbformat": 4,
  "nbformat_minor": 0,
  "metadata": {
    "colab": {
      "provenance": [],
      "authorship_tag": "ABX9TyPO6RRMM62Hnin3GgNMA0JG",
      "include_colab_link": true
    },
    "kernelspec": {
      "name": "python3",
      "display_name": "Python 3"
    },
    "language_info": {
      "name": "python"
    }
  },
  "cells": [
    {
      "cell_type": "markdown",
      "metadata": {
        "id": "view-in-github",
        "colab_type": "text"
      },
      "source": [
        "<a href=\"https://colab.research.google.com/github/Alex112525/Neural-Networks-with-PyTorch-course/blob/main/Linear_regression_with_PyTorch.ipynb\" target=\"_parent\"><img src=\"https://colab.research.google.com/assets/colab-badge.svg\" alt=\"Open In Colab\"/></a>"
      ]
    },
    {
      "cell_type": "code",
      "execution_count": 1,
      "metadata": {
        "colab": {
          "base_uri": "https://localhost:8080/",
          "height": 36
        },
        "id": "KEt7PdU8zJen",
        "outputId": "3fdfae09-0621-4a41-e3c5-97d41c2c4489"
      },
      "outputs": [
        {
          "output_type": "execute_result",
          "data": {
            "text/plain": [
              "'2.0.1+cu118'"
            ],
            "application/vnd.google.colaboratory.intrinsic+json": {
              "type": "string"
            }
          },
          "metadata": {},
          "execution_count": 1
        }
      ],
      "source": [
        "import torch\n",
        "import torch.nn as nn\n",
        "import matplotlib.pyplot as plt\n",
        "\n",
        "torch.__version__"
      ]
    },
    {
      "cell_type": "markdown",
      "source": [
        "##Generate synthetic data  "
      ],
      "metadata": {
        "id": "M2cjy2oMzsyy"
      }
    },
    {
      "cell_type": "markdown",
      "source": [
        "The *unsqueeze()* function in PyTorch is used to unsqueeze a tensor by inserting a new dimension of size one at a specified position. An unsqueeze operation always increases the dimension of the output tensor. "
      ],
      "metadata": {
        "id": "DGYhgjpV03c2"
      }
    },
    {
      "cell_type": "code",
      "source": [
        "start = 0\n",
        "final = 1\n",
        "step = 0.025\n",
        "X = torch.arange(start, final, step)\n",
        "print(f\"X shape: {X.shape}\")\n",
        "X = X.unsqueeze(dim=1)\n",
        "print(f\"X shape (unsqueeze): {X.shape}\")\n",
        "\n",
        "volume = 0.6\n",
        "bias = 0.2\n",
        "noise = torch.randn(X.size()) * 0.06\n",
        "\n",
        "Y =  volume * X + bias + noise\n",
        "print(f\"Y shape: {Y.shape} \")"
      ],
      "metadata": {
        "colab": {
          "base_uri": "https://localhost:8080/"
        },
        "id": "gic-JVtWznTD",
        "outputId": "c19f6b94-f302-47a8-a8e6-610d8f735e69"
      },
      "execution_count": 2,
      "outputs": [
        {
          "output_type": "stream",
          "name": "stdout",
          "text": [
            "X shape: torch.Size([40])\n",
            "X shape (unsqueeze): torch.Size([40, 1])\n",
            "Y shape: torch.Size([40, 1]) \n"
          ]
        }
      ]
    },
    {
      "cell_type": "markdown",
      "source": [
        "Slicing is a way to extract a portion of a tensor. The syntax for slicing is similar to that of Python lists. For example, if you have a tensor *x* with shape *(3, 4)*, you can slice it like this: *x[0:2, 1:3]*."
      ],
      "metadata": {
        "id": "3yZ6EpYe1q7u"
      }
    },
    {
      "cell_type": "code",
      "source": [
        "Y[:5]"
      ],
      "metadata": {
        "colab": {
          "base_uri": "https://localhost:8080/"
        },
        "id": "MUFLsAXV1cmZ",
        "outputId": "e85ed923-752d-4427-f390-9bc5e0594991"
      },
      "execution_count": 3,
      "outputs": [
        {
          "output_type": "execute_result",
          "data": {
            "text/plain": [
              "tensor([[0.3025],\n",
              "        [0.1255],\n",
              "        [0.2653],\n",
              "        [0.2443],\n",
              "        [0.3308]])"
            ]
          },
          "metadata": {},
          "execution_count": 3
        }
      ]
    },
    {
      "cell_type": "markdown",
      "source": [
        "We divide the dataset into train and test sets to evaluate how well our machine learning model performs. \n",
        "* The train set is used to fit the model, and the statistics of the train set are known. \n",
        "* The second set is called the test data set, this set is solely used for predictions. "
      ],
      "metadata": {
        "id": "H2TFmlSn22Pa"
      }
    },
    {
      "cell_type": "code",
      "source": [
        "train_division = int(0.7 * len(X))\n",
        "\n",
        "X_train, Y_train = X[:train_division], Y[:train_division]\n",
        "X_test, Y_test = X[train_division:], Y[train_division:]"
      ],
      "metadata": {
        "id": "wk90TgDJ2Zk1"
      },
      "execution_count": 4,
      "outputs": []
    },
    {
      "cell_type": "code",
      "source": [
        "len(X_train), len(Y_test)"
      ],
      "metadata": {
        "colab": {
          "base_uri": "https://localhost:8080/"
        },
        "id": "u8vdKEAj3UrM",
        "outputId": "72de79d9-00d7-476a-9f32-7d6d68b27cc8"
      },
      "execution_count": 5,
      "outputs": [
        {
          "output_type": "execute_result",
          "data": {
            "text/plain": [
              "(28, 12)"
            ]
          },
          "metadata": {},
          "execution_count": 5
        }
      ]
    },
    {
      "cell_type": "code",
      "source": [
        "def plot_predictions(input_data, input_label, test_data, test_label, prediction=None):\n",
        "  plt.figure(figsize=(8, 8))\n",
        "\n",
        "  plt.scatter(input_data, input_label, c=\"g\", s=6, label=\"Training Data\")\n",
        "\n",
        "  plt.scatter(test_data, test_label, c=\"y\", s=6, label=\"Test Data\")\n",
        "\n",
        "  if prediction is not None:\n",
        "    plt.scatter(test_data, prediction, c=\"r\", s=6, label=\"Predictions\")\n",
        "\n",
        "  plt.legend(prop={\"size\":12})"
      ],
      "metadata": {
        "id": "MuNIZcC63gi4"
      },
      "execution_count": 6,
      "outputs": []
    },
    {
      "cell_type": "code",
      "source": [
        "plot_predictions(X_train, Y_train, X_test, Y_test)"
      ],
      "metadata": {
        "colab": {
          "base_uri": "https://localhost:8080/",
          "height": 676
        },
        "id": "9Ocob4ar4-c4",
        "outputId": "0b979b0c-74eb-4f1b-e2d6-f32912c00767"
      },
      "execution_count": 7,
      "outputs": [
        {
          "output_type": "display_data",
          "data": {
            "text/plain": [
              "<Figure size 800x800 with 1 Axes>"
            ],
            "image/png": "[encoded data removed]"
          },
          "metadata": {}
        }
      ]
    },
    {
      "cell_type": "markdown",
      "source": [
        "##Building the model "
      ],
      "metadata": {
        "id": "Xi3COsTQAjD-"
      }
    },
    {
      "cell_type": "code",
      "source": [
        "class linearRegression(nn.Module):\n",
        "  def __init__(self) -> None:\n",
        "    super().__init__()\n",
        "\n",
        "    self.volume = nn.Parameter(torch.randn(1, dtype=torch.float), requires_grad=True)\n",
        "    self.bias = nn.Parameter(torch.randn(1, dtype=torch.float), requires_grad=True)\n",
        "\n",
        "  def forward(self, x: torch.Tensor) -> torch.Tensor:\n",
        "    return self.volume + x + self.bias"
      ],
      "metadata": {
        "id": "S81u1-6W9vx8"
      },
      "execution_count": 8,
      "outputs": []
    },
    {
      "cell_type": "markdown",
      "source": [
        "The *torch.manual_seed()* function sets the seed for generating random numbers in PyTorch. It is used to make sure that the results generated by random number generators are reproducible. \n",
        "If you set a seed for the random number generator, you can be sure that you will get the same results every time you run your code."
      ],
      "metadata": {
        "id": "z6oTx-9b_kR3"
      }
    },
    {
      "cell_type": "code",
      "source": [
        "torch.manual_seed(11)\n",
        "model = linearRegression()"
      ],
      "metadata": {
        "id": "1Qh_zveY_W7D"
      },
      "execution_count": 9,
      "outputs": []
    },
    {
      "cell_type": "code",
      "source": [
        "model"
      ],
      "metadata": {
        "colab": {
          "base_uri": "https://localhost:8080/"
        },
        "id": "lKwHNlko_vET",
        "outputId": "590d40bc-fa91-4096-ca65-e22ca33f42a7"
      },
      "execution_count": 10,
      "outputs": [
        {
          "output_type": "execute_result",
          "data": {
            "text/plain": [
              "linearRegression()"
            ]
          },
          "metadata": {},
          "execution_count": 10
        }
      ]
    },
    {
      "cell_type": "markdown",
      "source": [
        "The *state_dict()* function in PyTorch is an important function that is used to save and load the state of a model. It returns a dictionary containing a whole state of the module."
      ],
      "metadata": {
        "id": "Ll62RUPTAE4h"
      }
    },
    {
      "cell_type": "code",
      "source": [
        "model.state_dict()"
      ],
      "metadata": {
        "colab": {
          "base_uri": "https://localhost:8080/"
        },
        "id": "jQ0RMS9T_w8c",
        "outputId": "91600747-7f4e-41ba-d2f1-88cd1aca9327"
      },
      "execution_count": 11,
      "outputs": [
        {
          "output_type": "execute_result",
          "data": {
            "text/plain": [
              "OrderedDict([('volume', tensor([0.7376])), ('bias', tensor([1.9459]))])"
            ]
          },
          "metadata": {},
          "execution_count": 11
        }
      ]
    },
    {
      "cell_type": "markdown",
      "source": [
        "###Predictions without training"
      ],
      "metadata": {
        "id": "C0WLvyUGAWrh"
      }
    },
    {
      "cell_type": "markdown",
      "source": [
        "The *torch.inference_mode()* function is used to set the inference mode of PyTorch. Inference mode is used when you want to use your model for prediction. It disables some features that are only used during training, such as dropout and batch normalization."
      ],
      "metadata": {
        "id": "SXZsI0dmBLqE"
      }
    },
    {
      "cell_type": "code",
      "source": [
        "with torch.inference_mode():\n",
        "  predict_y = model(X_test)"
      ],
      "metadata": {
        "id": "0piE89sDAI-n"
      },
      "execution_count": 12,
      "outputs": []
    },
    {
      "cell_type": "code",
      "source": [
        "plot_predictions(X_train, Y_train, X_test, Y_test, predict_y)"
      ],
      "metadata": {
        "colab": {
          "base_uri": "https://localhost:8080/",
          "height": 676
        },
        "id": "dcKZpnRRBGA8",
        "outputId": "8f318cec-c825-406d-c2fb-a2bc24978eee"
      },
      "execution_count": 13,
      "outputs": [
        {
          "output_type": "display_data",
          "data": {
            "text/plain": [
              "<Figure size 800x800 with 1 Axes>"
            ],
            "image/png": "[encoded data removed]"
          },
          "metadata": {}
        }
      ]
    },
    {
      "cell_type": "markdown",
      "source": [
        "##Train Model"
      ],
      "metadata": {
        "id": "psB7heDMsNC8"
      }
    },
    {
      "cell_type": "markdown",
      "source": [
        "A loss function is a method of evaluating how well your machine learning algorithm models your featured data set.\n",
        "It is a mathematical function of the parameters of the machine learning algorithm.\n",
        "\n",
        "An optimizer is an algorithm that adjusts the learnable parameters of a neural network in order to minimize the error or cost function during training. Optimizers are a key component in deep learning that help improve the accuracy and efficiency of neural networks."
      ],
      "metadata": {
        "id": "qGvaa5B1sjpj"
      }
    },
    {
      "cell_type": "code",
      "source": [
        "#loss_fn = nn.L1Loss()\n",
        "loss_fn = nn.MSELoss()\n",
        "\n",
        "optimizer = torch.optim.SGD(params=model.parameters(), lr=0.008)"
      ],
      "metadata": {
        "id": "MvB7xrLPsK45"
      },
      "execution_count": 14,
      "outputs": []
    },
    {
      "cell_type": "code",
      "source": [
        "optimizer"
      ],
      "metadata": {
        "colab": {
          "base_uri": "https://localhost:8080/"
        },
        "id": "TWR07j0rtchp",
        "outputId": "54ba535c-da76-4989-d134-5e126ccb391c"
      },
      "execution_count": 15,
      "outputs": [
        {
          "output_type": "execute_result",
          "data": {
            "text/plain": [
              "SGD (\n",
              "Parameter Group 0\n",
              "    dampening: 0\n",
              "    differentiable: False\n",
              "    foreach: None\n",
              "    lr: 0.008\n",
              "    maximize: False\n",
              "    momentum: 0\n",
              "    nesterov: False\n",
              "    weight_decay: 0\n",
              ")"
            ]
          },
          "metadata": {},
          "execution_count": 15
        }
      ]
    },
    {
      "cell_type": "code",
      "source": [
        "torch.manual_seed(42)\n",
        "\n",
        "epochs = 300\n",
        "\n",
        "train_loss = []\n",
        "test_loss = []\n",
        "\n",
        "for epoch in range(epochs):\n",
        "  \n",
        "  model.train()             #train mode\n",
        "  y_predict = model(X_train)    #Using fordward \n",
        "  loss = loss_fn(y_predict, Y_train)    #Calculate loss\n",
        "  optimizer.zero_grad()     #Set zeros in gradients\n",
        "  loss.backward()           #Calculate new gradients\n",
        "  optimizer.step()          #We use the optimizer to reduce the error\n",
        "\n",
        "  #Eval model\n",
        "  model.eval()\n",
        "  with torch.inference_mode():\n",
        "    test_predict = model(X_test)\n",
        "    t_loss = loss_fn(test_predict, Y_test)\n",
        "    if epoch%20 == 0:\n",
        "      train_loss.append(loss.detach().numpy())\n",
        "      test_loss.append(t_loss.detach().numpy())\n",
        "      print(f\"Epoch: {epoch} | Train loss:{round(loss.item(), 6)} | Test loss:{round(t_loss.item(), 6)}\")"
      ],
      "metadata": {
        "colab": {
          "base_uri": "https://localhost:8080/"
        },
        "id": "C5SOcDpjty5C",
        "outputId": "1e1360b8-0bf7-43bd-acc3-63f4635d4e30"
      },
      "execution_count": 16,
      "outputs": [
        {
          "output_type": "stream",
          "name": "stdout",
          "text": [
            "Epoch: 0 | Train loss:6.784384 | Test loss:7.575151\n",
            "Epoch: 20 | Train loss:1.854776 | Test loss:2.396559\n",
            "Epoch: 40 | Train loss:0.512547 | Test loss:0.846947\n",
            "Epoch: 60 | Train loss:0.147086 | Test loss:0.35218\n",
            "Epoch: 80 | Train loss:0.047579 | Test loss:0.179458\n",
            "Epoch: 100 | Train loss:0.020485 | Test loss:0.112596\n",
            "Epoch: 120 | Train loss:0.013108 | Test loss:0.084043\n",
            "Epoch: 140 | Train loss:0.011099 | Test loss:0.070868\n",
            "Epoch: 160 | Train loss:0.010552 | Test loss:0.064463\n",
            "Epoch: 180 | Train loss:0.010403 | Test loss:0.061249\n",
            "Epoch: 200 | Train loss:0.010363 | Test loss:0.059607\n",
            "Epoch: 220 | Train loss:0.010352 | Test loss:0.058759\n",
            "Epoch: 240 | Train loss:0.010349 | Test loss:0.05832\n",
            "Epoch: 260 | Train loss:0.010348 | Test loss:0.058091\n",
            "Epoch: 280 | Train loss:0.010348 | Test loss:0.057972\n"
          ]
        }
      ]
    },
    {
      "cell_type": "code",
      "source": [
        "plt.plot(train_loss, label=\"Train loss\")\n",
        "plt.plot(test_loss, label=\"Test loss\")\n",
        "plt.ylabel(\"Loss\")\n",
        "plt.xlabel(\"Epoch\")\n",
        "plt.legend()\n",
        "plt.show()"
      ],
      "metadata": {
        "colab": {
          "base_uri": "https://localhost:8080/",
          "height": 449
        },
        "id": "q5gH4fMIzA0t",
        "outputId": "2b87b551-6dea-4f8f-c496-aeb373a71b64"
      },
      "execution_count": 17,
      "outputs": [
        {
          "output_type": "display_data",
          "data": {
            "text/plain": [
              "<Figure size 640x480 with 1 Axes>"
            ],
            "image/png": "[encoded data removed]"
          },
          "metadata": {}
        }
      ]
    },
    {
      "cell_type": "markdown",
      "source": [
        "###Model inference"
      ],
      "metadata": {
        "id": "JtZ11-4U4yNP"
      }
    },
    {
      "cell_type": "code",
      "source": [
        "model.eval()\n",
        "\n",
        "with torch.inference_mode():\n",
        "  #model.to(device)\n",
        "  #X_test = X_test.to(device)\n",
        "  final_predict = model(X_test)"
      ],
      "metadata": {
        "id": "JsUhDUno4xWK"
      },
      "execution_count": 18,
      "outputs": []
    },
    {
      "cell_type": "code",
      "source": [
        "plot_predictions(X_train, Y_train, X_test, Y_test, final_predict)"
      ],
      "metadata": {
        "colab": {
          "base_uri": "https://localhost:8080/",
          "height": 676
        },
        "id": "Kz_vgAm35bsG",
        "outputId": "05c08b94-a662-4479-bac2-eefac0a4f2d3"
      },
      "execution_count": 19,
      "outputs": [
        {
          "output_type": "display_data",
          "data": {
            "text/plain": [
              "<Figure size 800x800 with 1 Axes>"
            ],
            "image/png": "[encoded data removed]"
          },
          "metadata": {}
        }
      ]
    }
  ]
}