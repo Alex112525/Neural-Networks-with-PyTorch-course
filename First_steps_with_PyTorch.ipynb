{
  "nbformat": 4,
  "nbformat_minor": 0,
  "metadata": {
    "colab": {
      "provenance": [],
      "gpuType": "T4",
      "authorship_tag": "ABX9TyO6dC9QKdD11It2aSh1PYq/",
      "include_colab_link": true
    },
    "kernelspec": {
      "name": "python3",
      "display_name": "Python 3"
    },
    "language_info": {
      "name": "python"
    },
    "accelerator": "GPU",
    "gpuClass": "standard"
  },
  "cells": [
    {
      "cell_type": "markdown",
      "metadata": {
        "id": "view-in-github",
        "colab_type": "text"
      },
      "source": [
        "<a href=\"https://colab.research.google.com/github/Alex112525/Neural-Networks-with-PyTorch-course/blob/main/First_steps_with_PyTorch.ipynb\" target=\"_parent\"><img src=\"https://colab.research.google.com/assets/colab-badge.svg\" alt=\"Open In Colab\"/></a>"
      ]
    },
    {
      "cell_type": "markdown",
      "source": [
        "#PyTorch"
      ],
      "metadata": {
        "id": "H6zQxfG0VY1D"
      }
    },
    {
      "cell_type": "markdown",
      "source": [
        "**PyTorch** is a machine learning framework based on the Torch library. It is used for applications such as computer vision and natural language processing. PyTorch is an open-source library developed using Torch library for python program.\n",
        "\n",
        "*torch.nn* is a module that contains classes and functions to build neural networks. It provides a way to wrap parameters, functions, and layers in the *torch.nn* modules. Any deep learning model is developed using the subclass of the *torch.nn* module it uses method like forward (input) which returns the output"
      ],
      "metadata": {
        "id": "fFs_6I_9Qqf4"
      }
    },
    {
      "cell_type": "code",
      "execution_count": null,
      "metadata": {
        "id": "OZ-TR387Pnn_"
      },
      "outputs": [],
      "source": [
        "import torch \n",
        "import torch.nn as nn "
      ]
    },
    {
      "cell_type": "markdown",
      "source": [
        "* *nn.Embedding()* is a PyTorch module that is used to store embeddings of a fixed dictionary and size\n",
        "* *nn.LSTM()* is a module that is used to implement the Long Short-Term Memory (LSTM) network. It is a type of recurrent neural network (RNN) that is capable of learning long-term dependencies.\n",
        "* *nn.Linear()* is a PyTorch module that is used to implement a linear transformation."
      ],
      "metadata": {
        "id": "-CAjLYUGTnQx"
      }
    },
    {
      "cell_type": "code",
      "source": [
        "class TextClassifier(nn.Module):\n",
        "  def __init__(self, vocab_size, embedding_dim, hidden_dim, output_dim):\n",
        "    super().__init__()\n",
        "\n",
        "    self.embedding = nn.Embedding(vocab_size, embedding_dim)\n",
        "    self.rnn = nn.LSTM(embedding_dim, hidden_dim, num_layers=2, batch_first=True)\n",
        "    self.fc = nn.Linear(hidden_dim, output_dim)\n",
        "\n",
        "  def forward(self, text):\n",
        "    embedded = self.embedding(text) \n",
        "    out, (hidden, cell) = self.tnn(embedded)\n",
        "    final_hidden = hidden[-1]\n",
        "    return self.fc(final_hidden)"
      ],
      "metadata": {
        "id": "dFnnOILiPy9o"
      },
      "execution_count": null,
      "outputs": []
    },
    {
      "cell_type": "code",
      "source": [
        "vocab_size = 1000\n",
        "embedding_dim = 100\n",
        "hidden_dim = 256\n",
        "output_dim = 2\n",
        "\n",
        "model = TextClassifier(vocab_size, embedding_dim, hidden_dim, output_dim)"
      ],
      "metadata": {
        "id": "6tMVEG5QSrzy"
      },
      "execution_count": null,
      "outputs": []
    },
    {
      "cell_type": "code",
      "source": [
        "model"
      ],
      "metadata": {
        "colab": {
          "base_uri": "https://localhost:8080/"
        },
        "id": "PTIsE5jkTEsD",
        "outputId": "ae521577-3f98-41f8-b433-0ae87fe29cfb"
      },
      "execution_count": null,
      "outputs": [
        {
          "output_type": "execute_result",
          "data": {
            "text/plain": [
              "TextClassifier(\n",
              "  (embedding): Embedding(1000, 100)\n",
              "  (rnn): LSTM(100, 256, num_layers=2, batch_first=True)\n",
              "  (fc): Linear(in_features=256, out_features=2, bias=True)\n",
              ")"
            ]
          },
          "metadata": {},
          "execution_count": 4
        }
      ]
    },
    {
      "cell_type": "markdown",
      "source": [
        "#Tensors in Pytorch"
      ],
      "metadata": {
        "id": "PhvdHWQFVeW6"
      }
    },
    {
      "cell_type": "markdown",
      "source": [
        "In mathematics, a *tensor* is an algebraic object that describes a multilinear relationship between sets of algebraic objects related to a vector space. Tensors may map between different objects such as vectors, scalars, and even other tensors. \n",
        "In machine learning, *tensors* are multi-dimensional arrays with a uniform type (called a dtype).\n",
        "\n",
        "* Scalar: Is a physical quantity that is completely described by its magnitude like **6**, **0.7**, etc.\n",
        "* Vector: Is a quantity that has both magnitude and direction **[3,4,5]**, **[0.3,2.4,1.5]**.\n",
        "*Matrix:  Is a rectangular array arranged in rows and columns, which is used to represent a mathematical object or a property of such an object. **[[1, 2],[3,8]]**\n"
      ],
      "metadata": {
        "id": "tlWtOIOgVt7C"
      }
    },
    {
      "cell_type": "code",
      "source": [
        "Scalar = torch.randn(1)\n",
        "Scalar"
      ],
      "metadata": {
        "colab": {
          "base_uri": "https://localhost:8080/"
        },
        "id": "xEBLKaCwVh7r",
        "outputId": "37911ec4-f187-4cee-de2f-a45d662b955d"
      },
      "execution_count": null,
      "outputs": [
        {
          "output_type": "execute_result",
          "data": {
            "text/plain": [
              "tensor([-0.8036])"
            ]
          },
          "metadata": {},
          "execution_count": 3
        }
      ]
    },
    {
      "cell_type": "code",
      "source": [
        "Vector = torch.zeros(1,6)\n",
        "Vector"
      ],
      "metadata": {
        "colab": {
          "base_uri": "https://localhost:8080/"
        },
        "id": "D6lU5e5TXUYt",
        "outputId": "3e494c2a-ee81-4bed-d572-ab9b182d179c"
      },
      "execution_count": null,
      "outputs": [
        {
          "output_type": "execute_result",
          "data": {
            "text/plain": [
              "tensor([[0., 0., 0., 0., 0., 0.]])"
            ]
          },
          "metadata": {},
          "execution_count": 4
        }
      ]
    },
    {
      "cell_type": "code",
      "source": [
        "Matrix = torch.ones(3,5)\n",
        "Matrix"
      ],
      "metadata": {
        "colab": {
          "base_uri": "https://localhost:8080/"
        },
        "id": "0Xvq-aCZXaGl",
        "outputId": "ab8577bb-33b0-4c6d-8801-e5f63d7faaa6"
      },
      "execution_count": null,
      "outputs": [
        {
          "output_type": "execute_result",
          "data": {
            "text/plain": [
              "tensor([[1., 1., 1., 1., 1.],\n",
              "        [1., 1., 1., 1., 1.],\n",
              "        [1., 1., 1., 1., 1.]])"
            ]
          },
          "metadata": {},
          "execution_count": 5
        }
      ]
    },
    {
      "cell_type": "code",
      "source": [
        "Tensor = torch.randn(3,4,2)\n",
        "Tensor"
      ],
      "metadata": {
        "colab": {
          "base_uri": "https://localhost:8080/"
        },
        "id": "S_j0nGSQXu-b",
        "outputId": "bded91a1-6cd7-4263-9a30-e606583d80df"
      },
      "execution_count": null,
      "outputs": [
        {
          "output_type": "execute_result",
          "data": {
            "text/plain": [
              "tensor([[[-0.7664, -0.4273],\n",
              "         [ 0.9795,  0.1799],\n",
              "         [ 0.1814, -0.6267],\n",
              "         [ 1.3144, -2.3561]],\n",
              "\n",
              "        [[-0.1870,  0.2109],\n",
              "         [ 1.5773,  0.4337],\n",
              "         [ 0.5309,  0.5429],\n",
              "         [ 0.5626, -0.4614]],\n",
              "\n",
              "        [[ 1.0257, -0.9932],\n",
              "         [-1.0558,  1.1682],\n",
              "         [ 0.7929,  0.4631],\n",
              "         [-0.4255,  0.3209]]])"
            ]
          },
          "metadata": {},
          "execution_count": 6
        }
      ]
    },
    {
      "cell_type": "code",
      "source": [
        "torch.tensor([[2,2], [3,4]])"
      ],
      "metadata": {
        "colab": {
          "base_uri": "https://localhost:8080/"
        },
        "id": "fkGR8TRTX1rD",
        "outputId": "ad564080-1045-4a28-d9f1-3d2ca0ee3e7d"
      },
      "execution_count": null,
      "outputs": [
        {
          "output_type": "execute_result",
          "data": {
            "text/plain": [
              "tensor([[2, 2],\n",
              "        [3, 4]])"
            ]
          },
          "metadata": {},
          "execution_count": 7
        }
      ]
    },
    {
      "cell_type": "markdown",
      "source": [
        "###Debugging with tensors "
      ],
      "metadata": {
        "id": "HYlAKV1-YthM"
      }
    },
    {
      "cell_type": "markdown",
      "source": [
        "When we work with *tensors* and the operations are invalid we will have one of these three common problems:\n",
        "\n",
        "* Size or shape \n",
        "* The data type\n",
        "* The device in which the tensor is located"
      ],
      "metadata": {
        "id": "HUwYur8hZOu_"
      }
    },
    {
      "cell_type": "markdown",
      "source": [
        "**Shape**: The length (number of elements) of each of the axes of a tensor is called its shape. A scalar has rank 0, a vector has rank 1, and a matrix is rank 2. A particular dimension of a tensor is called an axis or dimension"
      ],
      "metadata": {
        "id": "6AYdyUHtZidY"
      }
    },
    {
      "cell_type": "code",
      "source": [
        "print(f\"The shape of the matrix is: {Matrix.shape}\")\n",
        "print(f\"The shape of the tensor is: {Tensor.shape}\")"
      ],
      "metadata": {
        "colab": {
          "base_uri": "https://localhost:8080/"
        },
        "id": "oY6447XMYxrw",
        "outputId": "d3e6201b-905e-45ff-a043-aea6da6e5dcf"
      },
      "execution_count": null,
      "outputs": [
        {
          "output_type": "stream",
          "name": "stdout",
          "text": [
            "The shape of the matrix is: torch.Size([3, 5])\n",
            "The shape of the tensor is: torch.Size([3, 4, 2])\n"
          ]
        }
      ]
    },
    {
      "cell_type": "markdown",
      "source": [
        "**dtype**: A *torch.dtype* is an object that represents the data type of a *torch.Tensor*. PyTorch has twelve different data types for tensors. The most commonly used data type is torch.float32 which is a 32-bit floating point. "
      ],
      "metadata": {
        "id": "SA-Pbfj6atz9"
      }
    },
    {
      "cell_type": "code",
      "source": [
        "print(f\"The type of the matrix is: {Matrix.dtype}\")\n",
        "print(f\"The tupe of the tensor is: {Tensor.dtype}\")"
      ],
      "metadata": {
        "colab": {
          "base_uri": "https://localhost:8080/"
        },
        "id": "bOuy4hEDad8W",
        "outputId": "5e9da462-17a7-4596-be32-f6ebcd8a8072"
      },
      "execution_count": null,
      "outputs": [
        {
          "output_type": "stream",
          "name": "stdout",
          "text": [
            "The type of the matrix is: torch.float32\n",
            "The tupe of the tensor is: torch.float32\n"
          ]
        }
      ]
    },
    {
      "cell_type": "code",
      "source": [
        "m_float32 = torch.tensor([[1.2,2.7], [6.1,4.9]])\n",
        "m_int64 = torch.tensor([[3,1], [9,2]])\n",
        "\n",
        "m_float32.dtype, m_int64.dtype"
      ],
      "metadata": {
        "colab": {
          "base_uri": "https://localhost:8080/"
        },
        "id": "K8AxJHtxbbf3",
        "outputId": "ab05ac6f-a516-4eb5-9fd0-1e97839c4c42"
      },
      "execution_count": null,
      "outputs": [
        {
          "output_type": "execute_result",
          "data": {
            "text/plain": [
              "(torch.float32, torch.int64)"
            ]
          },
          "metadata": {},
          "execution_count": 10
        }
      ]
    },
    {
      "cell_type": "code",
      "source": [
        "(m_float32 + m_int64).dtype"
      ],
      "metadata": {
        "colab": {
          "base_uri": "https://localhost:8080/"
        },
        "id": "WGxQhaGFcKHQ",
        "outputId": "ccde3d08-7b90-44fc-feb3-4857871eac61"
      },
      "execution_count": null,
      "outputs": [
        {
          "output_type": "execute_result",
          "data": {
            "text/plain": [
              "torch.float32"
            ]
          },
          "metadata": {},
          "execution_count": 11
        }
      ]
    },
    {
      "cell_type": "code",
      "source": [
        "m_int64.to(torch.int8)"
      ],
      "metadata": {
        "colab": {
          "base_uri": "https://localhost:8080/"
        },
        "id": "2sL-NHjXcZD2",
        "outputId": "fce1c6d2-4ea2-418e-a92c-87ddfdcbe563"
      },
      "execution_count": null,
      "outputs": [
        {
          "output_type": "execute_result",
          "data": {
            "text/plain": [
              "tensor([[3, 1],\n",
              "        [9, 2]], dtype=torch.int8)"
            ]
          },
          "metadata": {},
          "execution_count": 12
        }
      ]
    },
    {
      "cell_type": "markdown",
      "source": [
        "**Device**: It is important to know the device when we are using tensors in PyTorch because it determines where the tensor will be stored. PyTorch tensors can be stored on CPU memory or GPU memory."
      ],
      "metadata": {
        "id": "Z_cBoiV-ciKo"
      }
    },
    {
      "cell_type": "code",
      "source": [
        "m_int64.device"
      ],
      "metadata": {
        "colab": {
          "base_uri": "https://localhost:8080/"
        },
        "id": "9RipJfCPcha_",
        "outputId": "1fc0123f-4b5e-44e1-ec5a-c30a643e6ca7"
      },
      "execution_count": null,
      "outputs": [
        {
          "output_type": "execute_result",
          "data": {
            "text/plain": [
              "device(type='cpu')"
            ]
          },
          "metadata": {},
          "execution_count": 13
        }
      ]
    },
    {
      "cell_type": "markdown",
      "source": [
        "CUDA is a parallel computing platform and application programming interface (API) model created by NVIDIA that allows software developers and scientists to use a CUDA-enabled graphics processing unit (GPU) for general purpose processing.\n",
        "\n",
        "*torch.cuda.is_available()* is a function in PyTorch that returns a boolean indicating whether CUDA is currently available. "
      ],
      "metadata": {
        "id": "vjviSVQXdpOZ"
      }
    },
    {
      "cell_type": "code",
      "source": [
        "torch.cuda.is_available()"
      ],
      "metadata": {
        "colab": {
          "base_uri": "https://localhost:8080/"
        },
        "id": "JD_tLHMfdSKp",
        "outputId": "4887a93a-0148-4c89-99f6-f34de2db270e"
      },
      "execution_count": null,
      "outputs": [
        {
          "output_type": "execute_result",
          "data": {
            "text/plain": [
              "True"
            ]
          },
          "metadata": {},
          "execution_count": 15
        }
      ]
    },
    {
      "cell_type": "code",
      "source": [
        "if torch.cuda.is_available():\n",
        "  matrix_gpu = m_int64.to(torch.device(\"cuda\"))\n",
        "\n",
        "matrix_gpu.device"
      ],
      "metadata": {
        "colab": {
          "base_uri": "https://localhost:8080/"
        },
        "id": "9AQvOmu4dwXl",
        "outputId": "c206b8a6-8482-4c51-b69d-39c39b2bf319"
      },
      "execution_count": null,
      "outputs": [
        {
          "output_type": "execute_result",
          "data": {
            "text/plain": [
              "device(type='cuda', index=0)"
            ]
          },
          "metadata": {},
          "execution_count": 17
        }
      ]
    },
    {
      "cell_type": "code",
      "source": [
        "matrix_gpu + m_int64"
      ],
      "metadata": {
        "colab": {
          "base_uri": "https://localhost:8080/",
          "height": 165
        },
        "id": "N8_7oPEaeclT",
        "outputId": "40024867-c748-4629-bac2-727f142b6a9f"
      },
      "execution_count": null,
      "outputs": [
        {
          "output_type": "error",
          "ename": "RuntimeError",
          "evalue": "ignored",
          "traceback": [
            "\u001b[0;31m---------------------------------------------------------------------------\u001b[0m",
            "\u001b[0;31mRuntimeError\u001b[0m                              Traceback (most recent call last)",
            "\u001b[0;32m<ipython-input-18-61ff4aad92b7>\u001b[0m in \u001b[0;36m<cell line: 1>\u001b[0;34m()\u001b[0m\n\u001b[0;32m----> 1\u001b[0;31m \u001b[0mmatrix_gpu\u001b[0m \u001b[0;34m+\u001b[0m \u001b[0mm_int64\u001b[0m\u001b[0;34m\u001b[0m\u001b[0;34m\u001b[0m\u001b[0m\n\u001b[0m",
            "\u001b[0;31mRuntimeError\u001b[0m: Expected all tensors to be on the same device, but found at least two devices, cuda:0 and cpu!"
          ]
        }
      ]
    }
  ]
}